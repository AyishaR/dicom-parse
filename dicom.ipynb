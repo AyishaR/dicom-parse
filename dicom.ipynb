{
  "nbformat": 4,
  "nbformat_minor": 0,
  "metadata": {
    "colab": {
      "name": "dicom.ipynb",
      "provenance": [],
      "collapsed_sections": []
    },
    "kernelspec": {
      "name": "python3",
      "display_name": "Python 3"
    }
  },
  "cells": [
    {
      "cell_type": "code",
      "metadata": {
        "id": "cpJGskvuYzvX",
        "colab": {
          "base_uri": "https://localhost:8080/"
        },
        "outputId": "7bd75ae9-a346-4446-837d-2e8b5172d00e"
      },
      "source": [
        "!pip install pydicom\n",
        "!conda install gdcm -c conda-forge"
      ],
      "execution_count": null,
      "outputs": [
        {
          "output_type": "stream",
          "text": [
            "Collecting pydicom\n",
            "\u001b[?25l  Downloading https://files.pythonhosted.org/packages/72/7b/6ed88f82dd33a32cdb43432dab7f84fcd40c49d63251442b3cfe0be983d4/pydicom-2.1.1-py3-none-any.whl (1.9MB)\n",
            "\u001b[K     |████████████████████████████████| 1.9MB 5.4MB/s \n",
            "\u001b[?25hInstalling collected packages: pydicom\n",
            "Successfully installed pydicom-2.1.1\n",
            "/bin/bash: conda: command not found\n"
          ],
          "name": "stdout"
        }
      ]
    },
    {
      "cell_type": "code",
      "metadata": {
        "id": "_UvnidXBYbwo"
      },
      "source": [
        "import pydicom\n",
        "from pydicom.data import get_testdata_file\n",
        "import matplotlib.pyplot as plt\n",
        "import pandas as pd\n",
        "import csv\n",
        "import os"
      ],
      "execution_count": null,
      "outputs": []
    },
    {
      "cell_type": "code",
      "metadata": {
        "id": "4wFd8or98cUu"
      },
      "source": [
        "# CSV file containing all DICOM tags\n",
        "dicom_tags = pd.read_csv('dicom_tags.data', sep=\"|\")\n",
        "dicom_tags"
      ],
      "execution_count": null,
      "outputs": []
    },
    {
      "cell_type": "code",
      "metadata": {
        "id": "psSRvETFpYqY"
      },
      "source": [
        "# Index of tags to record\n",
        "tags_to_record = list(dicom_tags.Tag)\n",
        " \n",
        "# Remove the index of tag - PixelData\n",
        "# The content of this tag will be stored as images inna separate folder\n",
        "tags_to_record.remove('(7FE0,0010)')\n",
        " \n",
        "# Creating a reverse dictionary where the key is the index of the tag and the value is the index of the element in the array/list.\n",
        "dicom_tags_index_reverse = {x:i for i,x in enumerate(tags_to_record)}\n",
        "dicom_tags_index_reverse"
      ],
      "execution_count": null,
      "outputs": []
    },
    {
      "cell_type": "code",
      "metadata": {
        "id": "eh4ka7NO8g6k"
      },
      "source": [
        " \n",
        "# Path to folder with DICOM files\n",
        "path = '/content/drive/My Drive/dcm_files/'\n",
        " \n",
        "# Path to folder to store generated files\n",
        "pathx = '/content/drive/My Drive/dcm_files/'\n",
        " \n",
        "csv_filename =  'dicom_test.csv'\n",
        " \n",
        "# New CSV file\n",
        "with open(path + csv_filename, 'w') as csvfile:\n",
        " \n",
        "    # Create CSV writer\n",
        "    csvwriter = csv.writer(csvfile)\n",
        " \n",
        "    # Elements in the header of the CSV\n",
        "    header_row = ['Filename']    # DICOM filename\n",
        "    header_row.extend(list(dicom_tags.Keyword))    # Keywords of tags\n",
        "    header_row.extend(['Private'])    # Add element to keep track of private elements\n",
        "    header_row.remove('PixelData')    # Remove PixelData tag\n",
        " \n",
        "    csvwriter.writerow(header_row)\n",
        " \n",
        "    print('Writing to file ', csv_filename)\n",
        " \n",
        "    # for each file\n",
        "    for filename in os.listdir(path):\n",
        "        \n",
        "        print('Currently reading', filename)\n",
        " \n",
        "        newline = [None] * (len(header_row))    # One for each attribute to be stored\n",
        "        \n",
        "        newline[0] = filename    # Set filename attribute\n",
        " \n",
        "        dcm_file = pydicom.dcmread(path + filename)\n",
        " \n",
        "        # The features defined in the file\n",
        "        features_present = list(dcm_file.keys())\n",
        " \n",
        "        # Path to store image files\n",
        "        folder_path = path + filename[:-4]\n",
        "        os.makedirs(folder_path)\n",
        " \n",
        "        private_tags = []    # To keep track of private tags\n",
        " \n",
        "        for x in features_present:\n",
        " \n",
        "            # Edit to match the keys of the dicom_tags_index_reverse dict\n",
        "            xtag = str(x).upper().replace(\" \", \"\")\n",
        "            \n",
        "            # Retrieve value\n",
        "            val = dcm_file[x].value\n",
        " \n",
        "            # If PixelData\n",
        "            if xtag == '(7FE0,0010)':\n",
        " \n",
        "                p = dcm_file.pixel_array\n",
        " \n",
        "                print('Parsing image(s)')\n",
        " \n",
        "                if len(p.shape)>2:\n",
        "                    print(\"Multiple image files present\")\n",
        "                    for i in range(p.shape[0]):\n",
        "                        plt.axis(False)\n",
        "                        plt.imshow(p[i], cmap=plt.cm.gray)\n",
        "                        file  = folder_path + '/' + 'Image' + str(i) + '.jpg'\n",
        "                        print('Saving', file)\n",
        "                        plt.savefig(file, dpi=500, bbox_inches='tight',pad_inches=0)\n",
        "                else:\n",
        "                    print(\"Single image file present\")\n",
        "                    plt.axis(False)\n",
        "                    plt.imshow(p, plt.cm.gray)\n",
        "                    file  = folder_path + '/' + 'Image.jpg'\n",
        "                    print('Saving', file)\n",
        "                    plt.savefig(file, dpi=500, bbox_inches='tight',pad_inches=0)\n",
        " \n",
        "            else:\n",
        "                # If private tag\n",
        "                if xtag not in dicom_tags_index_reverse:\n",
        "                    # Add to list of private tags\n",
        "                    private_tags.append(dcm_file[x])\n",
        "                else:\n",
        "                    # Store value at location in newline array\n",
        "                    newline[dicom_tags_index_reverse[xtag]+1] = val\n",
        "        \n",
        "        # Store the private tags at location in newline array\n",
        "        newline[-1] = str(private_tags)\n",
        "        \n",
        "        # Write to csv file\n",
        "        csvwriter.writerow(newline)"
      ],
      "execution_count": null,
      "outputs": []
    },
    {
      "cell_type": "code",
      "metadata": {
        "id": "-GI4XICq4pII"
      },
      "source": [
        "\n",
        "# View generated CSV file \n",
        "pd.read_csv(path + 'dicom_test.csv')"
      ],
      "execution_count": null,
      "outputs": []
    },
    {
      "cell_type": "code",
      "metadata": {
        "id": "aoDeHD0uNj9-"
      },
      "source": [
        ""
      ],
      "execution_count": null,
      "outputs": []
    }
  ]
}